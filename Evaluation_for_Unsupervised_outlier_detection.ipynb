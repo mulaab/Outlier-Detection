{
  "nbformat": 4,
  "nbformat_minor": 0,
  "metadata": {
    "colab": {
      "name": "Evaluation for Unsupervised outlier detection.ipynb",
      "provenance": [],
      "collapsed_sections": [],
      "authorship_tag": "ABX9TyPrkqJVqMoOL1RikFaxEyJI"
    },
    "kernelspec": {
      "name": "python3",
      "display_name": "Python 3"
    },
    "language_info": {
      "name": "python"
    }
  },
  "cells": [
    {
      "cell_type": "markdown",
      "metadata": {
        "id": "lUTGwbAWMttf"
      },
      "source": [
        "## In this topic, we present about the measures for anomaly detection if we use method unsupervised outlier detection. We know that unsupervised outlier detection using  data without label. We will show one methods for it which em mv mehods. the first step we install pyod and  and emmv library with command pip install pyod and pip install emmv\n",
        "\n",
        "> ! pip install pyod \n",
        "\n",
        ">  ! pip install emmv block\n",
        "\n",
        ">  !pip list -v for know list of packages in colab\n",
        "\n",
        "\n"
      ]
    },
    {
      "cell_type": "code",
      "metadata": {
        "id": "2_leuOIXFCZ5"
      },
      "source": [
        "!pip install emmv"
      ],
      "execution_count": null,
      "outputs": []
    },
    {
      "cell_type": "code",
      "metadata": {
        "id": "qAkd65I-JoAR"
      },
      "source": [
        "!pip install pyod"
      ],
      "execution_count": null,
      "outputs": []
    },
    {
      "cell_type": "code",
      "metadata": {
        "id": "EjP_BQdAoUEf"
      },
      "source": [
        "!pip install adtk"
      ],
      "execution_count": null,
      "outputs": []
    },
    {
      "cell_type": "code",
      "metadata": {
        "id": "-fO9L0UW-7EE"
      },
      "source": [
        "!pip install combo"
      ],
      "execution_count": null,
      "outputs": []
    },
    {
      "cell_type": "code",
      "metadata": {
        "colab": {
          "base_uri": "https://localhost:8080/"
        },
        "id": "NGAJWVY9-kyk",
        "outputId": "3b999897-4f7d-4e7c-e4df-ead5b5398eee"
      },
      "source": [
        "import numpy as np\n",
        "from pyod.models.copod import COPOD\n",
        "\n",
        "from emmv import emmv_scores\n",
        "\n",
        "rng = np.random.RandomState(42)\n",
        "\n",
        "NUM_COLS = 7\n",
        "# Generate train data\n",
        "X = 0.3 * rng.randn(100, NUM_COLS)\n",
        "X_train = np.r_[X + 2, X - 2]\n",
        "# Generate some regular novel observations\n",
        "X = 0.3 * rng.randn(20, NUM_COLS)\n",
        "X_regular = np.r_[X + 2, X - 2]\n",
        "# Generate some abnormal novel observations\n",
        "X_outliers = rng.uniform(low=-4, high=4, size=(20, NUM_COLS))\n",
        "# fit the model\n",
        "model = COPOD()\n",
        "model.fit(X_train)\n",
        "\n",
        "# Get EM & MV scores\n",
        "X_test = np.concatenate((X_regular, X_outliers), axis=0)\n",
        "test_scores = emmv_scores(model, X_test)\n",
        "print('Excess Mass score;', test_scores['em'])\n",
        "print('Mass Volume score:', test_scores['mv'])"
      ],
      "execution_count": null,
      "outputs": [
        {
          "output_type": "stream",
          "name": "stdout",
          "text": [
            "Excess Mass score; 0.0072596801\n",
            "Mass Volume score: 1067810.6455843074\n"
          ]
        }
      ]
    },
    {
      "cell_type": "code",
      "metadata": {
        "colab": {
          "base_uri": "https://localhost:8080/"
        },
        "id": "y9PM2ec3oP7d",
        "outputId": "fb94b781-067f-452d-f832-d18a7e3a9f56"
      },
      "source": [
        "import pandas as pd\n",
        "import numpy as np\n",
        "from adtk.data import validate_series\n",
        "from adtk.detector import GeneralizedESDTestAD\n",
        "\n",
        "from emmv import emmv_scores\n",
        "\n",
        "rng = np.random.RandomState(42)\n",
        "\n",
        "# Generate train data\n",
        "timestamps = pd.date_range(\"2018-01-01\", periods=200, freq=\"H\")\n",
        "X = 0.3 * rng.randn(100)\n",
        "values = np.r_[X + 2, X - 2]\n",
        "data = pd.Series(values, index=timestamps)\n",
        "X_train = validate_series(data)\n",
        "\n",
        "# Generate some regular novel observations\n",
        "X = 0.3 * rng.randn(67)\n",
        "X_regular = np.r_[X + 2, X - 2]\n",
        "# Generate some abnormal novel observations\n",
        "X_outliers = rng.uniform(low=-4, high=4, size=(66))\n",
        "# Create test data\n",
        "timestamps = pd.date_range(\"2018-01-01\", periods=200, freq=\"H\")\n",
        "values = np.concatenate((X_regular, X_outliers), axis=0)\n",
        "data = pd.Series(values, index=timestamps)\n",
        "X_test = validate_series(data)\n",
        "\n",
        "# Fit model\n",
        "model = GeneralizedESDTestAD()\n",
        "anomalies = model.fit_detect(X_train)\n",
        "\n",
        "# Get EM & MV scores\n",
        "\n",
        "# TF models do not have a \"decision_function\" method, so we need to specify\n",
        "# our own custom anomaly scoring function. This one is specific to GeneralizedESDTestAD.\n",
        "# It is adapted from: https://github.com/odnura/adtk/blob/73bfb30ba457dd540e8aea82782431254da480ce/src/adtk/detector/_detector_1d.py#L346\n",
        "def scoring_function(model, df):\n",
        "    s = pd.Series(df) # 1D data expected\n",
        "    new_sum = s + model._normal_sum\n",
        "    new_count = model._normal_count + 1\n",
        "    new_mean = new_sum / new_count\n",
        "    new_squared_sum = s ** 2 + model._normal_squared_sum\n",
        "    new_std = np.sqrt(\n",
        "        (\n",
        "            new_squared_sum\n",
        "            - 2 * new_mean * new_sum\n",
        "            + new_count * new_mean ** 2\n",
        "        )\n",
        "        / (new_count - 1)\n",
        "    )\n",
        "    anomaly_scores = (s - new_mean).abs() / new_std\n",
        "    return anomaly_scores\n",
        "\n",
        "test_scores = emmv_scores(model, X_test, scoring_function)\n",
        "print('Excess Mass score;', test_scores['em'])\n",
        "print('Mass Volume score:', test_scores['mv'])"
      ],
      "execution_count": null,
      "outputs": [
        {
          "output_type": "stream",
          "name": "stdout",
          "text": [
            "Excess Mass score; 0.006291853399999999\n",
            "Mass Volume score: 6.5658257289213795\n"
          ]
        }
      ]
    },
    {
      "cell_type": "code",
      "metadata": {
        "id": "tgzM40SIo3wi"
      },
      "source": [
        "'''\n",
        "Author: Christian O'Leary\n",
        "Email: cjjoleary@gmail.com\n",
        "'''\n",
        "\n",
        "import os\n",
        "import random\n",
        "\n",
        "import numpy as np\n",
        "import tensorflow as tf\n",
        "from tensorflow.keras.layers import Dense, InputLayer\n",
        "from tensorflow.keras.models import Sequential\n",
        "\n",
        "from emmv import emmv_scores\n",
        "\n",
        "seed = 42\n",
        "os.environ['PYTHONHASHSEED']=str(seed)\n",
        "random.seed(seed)\n",
        "rng = np.random.RandomState(seed)\n",
        "tf.random.set_seed(seed)\n",
        "NUM_COLS = 1\n",
        "\n",
        "# Generate train data\n",
        "X = 0.3 * rng.randn(100, NUM_COLS)\n",
        "X_train = np.r_[X + 2, X - 2]\n",
        "# Generate some regular novel observations\n",
        "X = 0.3 * rng.randn(20, NUM_COLS)\n",
        "X_regular = np.r_[X + 2, X - 2]\n",
        "# Generate some abnormal novel observations\n",
        "X_outliers = rng.uniform(low=-4, high=4, size=(20, NUM_COLS))\n",
        "X_test = np.concatenate((X_regular, X_outliers), axis=0)\n",
        "\n",
        "# fit the model\n",
        "model = Sequential([\n",
        "            InputLayer(input_shape=NUM_COLS),\n",
        "            Dense(32),\n",
        "            Dense(NUM_COLS, activation='relu')\n",
        "        ])\n",
        "model.compile(loss='mse', optimizer='adam')\n",
        "model.fit(\n",
        "    X_train,\n",
        "    X_train, # i.e. reconstruction model\n",
        "    validation_split=0.1,\n",
        "    epochs=20,\n",
        "    batch_size=64,\n",
        "    verbose=1\n",
        ")\n",
        "\n",
        "# Get EM & MV scores\n",
        "\n",
        "# TF models do not have a \"decision_function\" method, so we need to specify\n",
        "# our own custom anomaly scoring function. This one uses MAPE.\n",
        "def scoring_function(model, df):\n",
        "    offset = 0.00000001 # to prevent division by 0\n",
        "    # 1. model predictions\n",
        "    preds = model.predict(df)\n",
        "    # 2. Use a regression metric, e.g. MAPE\n",
        "    anomaly_scores = np.mean((np.abs(preds - df) / (df + offset)), axis=1) # i.e. anomaly score\n",
        "    return anomaly_scores\n",
        "\n",
        "test_scores = emmv_scores(model, X_test, scoring_function)\n",
        "print('Excess Mass score;', test_scores['em'])\n",
        "print('Mass Volume score:', test_scores['mv'])"
      ],
      "execution_count": null,
      "outputs": []
    },
    {
      "cell_type": "code",
      "metadata": {
        "id": "9k8Xhz9wpKou"
      },
      "source": [
        "'''\n",
        "Author: Christian O'Leary\n",
        "Email: cjjoleary@gmail.com\n",
        "'''\n",
        "\n",
        "from emmv import emmv_scores\n",
        "\n",
        "# Adapted from https://pycaret.org/setup/\n",
        "# Importing dataset\n",
        "from pycaret.datasets import get_data\n",
        "anomalies = get_data('anomaly')\n",
        "\n",
        "# Importing module and initializing setup\n",
        "from pycaret.anomaly import *\n",
        "anomaly_setup = setup(data=anomalies)\n",
        "\n",
        "# create a model\n",
        "model = create_model('iforest')\n",
        "results = assign_model(model)\n",
        "\n",
        "# Get EM & MV scores\n",
        "test_scores = emmv_scores(model, anomalies)\n",
        "print('Excess Mass score;', test_scores['em'])\n",
        "print('Mass Volume score:', test_scores['mv'])"
      ],
      "execution_count": null,
      "outputs": []
    },
    {
      "cell_type": "code",
      "metadata": {
        "colab": {
          "base_uri": "https://localhost:8080/",
          "height": 752
        },
        "id": "xUIJ9PRou02X",
        "outputId": "c4127fe5-42ba-44f2-a9f1-9a2bb86afa13"
      },
      "source": [
        "# -*- coding: utf-8 -*-\n",
        "\"\"\"Example of using simple aggregation for outlier detection\n",
        "\"\"\"\n",
        "# Author: Yue Zhao <zhaoy@cmu.edu>\n",
        "# License: BSD 2 clause\n",
        "\n",
        "import os\n",
        "import sys\n",
        "\n",
        "# temporary solution for relative imports in case combo is not installed\n",
        "# if combo is installed, no need to use the following line\n",
        "sys.path.append(\n",
        "    os.path.abspath(os.path.join(os.path.dirname(\"__file__\"), '..')))\n",
        "\n",
        "# supress warnings for clean output\n",
        "import warnings\n",
        "\n",
        "warnings.filterwarnings(\"ignore\")\n",
        "\n",
        "from pyod.models.knn import KNN\n",
        "from pyod.models.lof import LOF\n",
        "from pyod.models.ocsvm import OCSVM\n",
        "from pyod.utils.data import generate_data\n",
        "from pyod.utils.data import evaluate_print\n",
        "from pyod.utils.example import visualize\n",
        "\n",
        "from combo.models.detector_comb import SimpleDetectorAggregator\n",
        "\n",
        "contamination = 0.1  # percentage of outliers\n",
        "n_train = 200  # number of training points\n",
        "n_test = 100  # number of testing points\n",
        "\n",
        "# Generate sample data\n",
        "X_train, y_train, X_test, y_test = \\\n",
        "    generate_data(n_train=n_train,\n",
        "                  n_test=n_test,\n",
        "                  n_features=2,\n",
        "                  contamination=contamination,\n",
        "                  random_state=42)\n",
        "\n",
        "detectors = [KNN(), LOF(), OCSVM()]\n",
        "\n",
        "clf = SimpleDetectorAggregator(base_estimators=detectors)\n",
        "clf_name = 'Aggregation by Averaging'\n",
        "clf.fit(X_train)\n",
        "\n",
        "# get the prediction labels and outlier scores of the training data\n",
        "y_train_pred = clf.labels_  # binary labels (0: inliers, 1: outliers)\n",
        "y_train_scores = clf.decision_scores_  # raw outlier scores\n",
        "\n",
        "# get the prediction on the test data\n",
        "y_test_pred = clf.predict(X_test)  # outlier labels (0 or 1)\n",
        "y_test_scores = clf.decision_function(X_test)  # outlier scores\n",
        "\n",
        "# evaluate and print the results\n",
        "print(\"\\nOn Training Data:\")\n",
        "evaluate_print(clf_name, y_train, y_train_scores)\n",
        "print(\"\\nOn Test Data:\")\n",
        "evaluate_print(clf_name, y_test, y_test_scores)\n",
        "\n",
        "# visualize the results\n",
        "visualize(clf_name, X_train, y_train, X_test, y_test, y_train_pred,\n",
        "          y_test_pred, show_figure=True, save_figure=True)"
      ],
      "execution_count": null,
      "outputs": [
        {
          "output_type": "stream",
          "name": "stdout",
          "text": [
            "\n",
            "On Training Data:\n",
            "Aggregation by Averaging ROC:0.9994, precision @ rank n:0.95\n",
            "\n",
            "On Test Data:\n",
            "Aggregation by Averaging ROC:1.0, precision @ rank n:1.0\n"
          ]
        },
        {
          "output_type": "display_data",
          "data": {
            "image/png": "[encoded data removed]",
            "text/plain": [
              "<Figure size 864x720 with 4 Axes>"
            ]
          },
          "metadata": {}
        }
      ]
    }
  ]
}